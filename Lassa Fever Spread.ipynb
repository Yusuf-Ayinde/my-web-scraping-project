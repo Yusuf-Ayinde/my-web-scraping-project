{
 "cells": [
  {
   "cell_type": "code",
   "execution_count": 1,
   "id": "8d272285-b368-41de-ae79-9613e69008d1",
   "metadata": {},
   "outputs": [
    {
     "name": "stdout",
     "output_type": "stream",
     "text": [
      "<Response [200]>\n",
      "Successful\n",
      "A .gov website belongs to an official government organization in the United States.\n",
      "A lock (  ) or https:// means you've safely connected to the .gov website. Share sensitive information only on official, secure websites.\n",
      "\n",
      "\n",
      "\t\t\t\t\t\t\tRelated Topics:\n",
      "\t\t\t\t\t\t\n",
      "\n",
      "Lassa fever is a severe viral illness that comes on quickly once someone is infected. It is spread by the \"multimammate rat\" or Mastomys natalensis (Mastomys), which is found throughout Sub-Saharan Africa. Currently, only West African multimammate rats are known to carry Lassa virus.\n",
      "Lassa fever is found in parts of West Africa, including Sierra Leone, Liberia, Guinea and Nigeria. People who live in neighboring countries are also at risk because the rat that spreads Lassa fever lives throughout the region.\n",
      "The first documented case occurred in 1969. Lassa fever is named after the town in Nigeria where the first cases occurred.\n",
      "About 8 in 10 people who are infected have mild symptoms and are not diagnosed. \n",
      "Signs and symptoms of Lassa fever typically occur 1 to 3 weeks after a person is infected.\n",
      "Lassa fever can lead to hearing loss, with about 1 out of 3 cases experiencing various levels of deafness. Deafness can occur in both mild and severe cases of Lassa fever. In many cases, the hearing loss is permanent. \n",
      "If a pregnant person is infected, there is a high risk of miscarriage. In these cases, about 95% of fetuses do not survive. \n",
      "Although Lassa fever is found in West Africa, there's a risk of Lassa virus infection wherever the multimmamate rat is found. \n",
      "Lassa fever is caused by infection with the Lassa virus, which is spread by rodents. These rodents breed quickly and carry the virus in their urine and droppings. They often live in areas where peoples' food supplies are stored. \n",
      "People mostly get Lassa fever by eating or breathing in the virus, for example: \n",
      "Infection can also occur after coming in contact with the body fluids of an infected person. People with Lassa fever are not contagious until after their symptoms begin. Lassa fever is not spread through casual contact, such as hugging, shaking hands, or sitting near someone.\n",
      "The Lassa virus can spread in health care settings when not using proper personal protective equipment (PPE) or properly sterilizing equipment.\n",
      "If you go to West Africa, prevent Lassa fever by keeping away from rats. You can also:\n",
      "Healthcare providers caring for patients with Lassa fever, should take precautions like:\n",
      "Diagnosing Lassa fever can be difficult because symptoms vary and are similar to symptoms caused by other diseases. Healthcare workers should contact their health department if they suspect Lassa fever in a returning traveler.\n",
      "Diagnostic testing can be done in a laboratory with a high level of biosafety and enhanced infection prevention and control precautions.\n",
      "The ability to diagnose Lassa fever in areas where it is commonly found can be difficult. This is due to limited laboratory capacity to test patient samples easily and safely.\n",
      "Ribavirin, an antiviral drug, has been used to successfully treat patients with Lassa fever. It is most effective when given soon after a patient becomes sick. Patients should also receive supportive care, including rest, hydration, and treatment of symptoms. \n",
      "Learn about Lassa fever, how it spreads, where it's found, and how to protect yourself.\n",
      "Languages \n",
      "Language Assistance \n"
     ]
    }
   ],
   "source": [
    "import requests\n",
    "from bs4 import BeautifulSoup\n",
    "\n",
    "# URL of the CDC Lassa fever page\n",
    "url = 'https://www.cdc.gov/lassa-fever/about/'\n",
    "\n",
    "# Send a GET request to the URL\n",
    "response = requests.get(url)\n",
    "print (response)\n",
    "\n",
    "# Check if the request was successful\n",
    "if response.status_code == 200:\n",
    "    # Parse the HTML content\n",
    "    soup = BeautifulSoup(response.content, 'html.parser')\n",
    "    print ('Successful')\n",
    "\n",
    "    # Find the section with the spread information\n",
    "    spread_section = soup.find_all('p')\n",
    "    \n",
    "    if spread_section:\n",
    "        for paragraph in spread_section:\n",
    "            print(paragraph.text)\n",
    "    else:\n",
    "        print(\"Spread information section not found on the page.\")\n",
    "else:\n",
    "    print('Failed to retrieve the webpage')\n"
   ]
  },
  {
   "cell_type": "code",
   "execution_count": null,
   "id": "325a9fea-82da-40f3-8f3a-338a83ddbb45",
   "metadata": {},
   "outputs": [],
   "source": []
  }
 ],
 "metadata": {
  "kernelspec": {
   "display_name": "Python 3 (ipykernel)",
   "language": "python",
   "name": "python3"
  },
  "language_info": {
   "codemirror_mode": {
    "name": "ipython",
    "version": 3
   },
   "file_extension": ".py",
   "mimetype": "text/x-python",
   "name": "python",
   "nbconvert_exporter": "python",
   "pygments_lexer": "ipython3",
   "version": "3.12.7"
  }
 },
 "nbformat": 4,
 "nbformat_minor": 5
}
