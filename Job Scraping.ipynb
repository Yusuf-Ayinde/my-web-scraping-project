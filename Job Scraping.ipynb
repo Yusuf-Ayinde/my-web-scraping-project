{
 "cells": [
  {
   "cell_type": "code",
   "execution_count": 27,
   "id": "a1c27593-86b2-44da-ac0b-81d099f33c14",
   "metadata": {},
   "outputs": [
    {
     "name": "stdout",
     "output_type": "stream",
     "text": [
      "Job Title: Software Engineering Manager\n",
      "Company Name: Kenkeputa\n",
      "\n",
      "JobFunction\n",
      ":Engineering&Technology\n",
      "\n",
      "Job Description: Remote (Work From Home)\n",
      "----------------------------------------\n",
      "Job Title: Senior Full Stack Engineer\n",
      "Company Name: Kenkeputa\n",
      "\n",
      "JobFunction\n",
      ":Engineering&Technology\n",
      "\n",
      "Job Description: Remote (Work From Home)\n",
      "----------------------------------------\n",
      "Job Title: Creative Designer\n",
      "Company Name: Codygo\n",
      "\n",
      "JobFunction\n",
      ":Software&Data\n",
      "\n",
      "Job Description: Remote (Work From Home)\n",
      "----------------------------------------\n",
      "Job Title: Senior AWS Fullstack Developer\n",
      "Company Name: Codygo\n",
      "\n",
      "JobFunction\n",
      ":Software&Data\n",
      "\n",
      "Job Description: Remote (Work From Home)\n",
      "----------------------------------------\n"
     ]
    }
   ],
   "source": [
    "import requests\n",
    "from bs4 import BeautifulSoup\n",
    "\n",
    "# URL of the job search page\n",
    "url = 'https://www.jobberman.com/jobs/remote'\n",
    "title_list = []\n",
    "job_function_list = []\n",
    "job_giver_list = []\n",
    "job_description_list = []\n",
    "\n",
    "# Send a GET request to the URL\n",
    "response = requests.get(url)\n",
    "\n",
    "\n",
    "# Check if the request was successful\n",
    "if response.status_code == 200:\n",
    "    # Parse the HTML content\n",
    "    soup = BeautifulSoup(response.content, 'html.parser')\n",
    "\n",
    "    # Find all job postings\n",
    "    job_cards = soup.find_all('div', class_='flex-1 flex items-center justify-between px-4 py-3 rounded-tr-md w-full pr-4')\n",
    "    \n",
    "    # Extract job details\n",
    "    for job in job_cards:\n",
    "        title = job.find('p', class_='text-lg font-medium break-words text-link-500').text.strip()\n",
    "        title_list.append(title)\n",
    "        job_function = job.find('p', class_='text-sm text-gray-500 text-loading-animate inline-block').text.replace(' ','')\n",
    "        job_function_list.append(job_function)\n",
    "        job_giver = job.find('p', class_='text-sm text-link-500 text-loading-animate inline-block').text.strip()\n",
    "        job_giver_list.append(job_giver)\n",
    "        job_description = job.find('span', class_='mb-3 px-3 py-1 rounded bg-brand-secondary-100 mr-2 text-loading-hide').text.strip()\n",
    "        job_description_list.append(job_description)\n",
    "        \n",
    "        \n",
    "        print(f'Job Title: {title}')\n",
    "        print(f'Company Name: {job_giver}')\n",
    "        print(job_function)\n",
    "        print(f'Job Description: {job_description}')\n",
    "        print('-' * 40)\n",
    "        \n",
    "        \n",
    "else:\n",
    "    print('Failed to retrieve the webpage')\n"
   ]
  },
  {
   "cell_type": "code",
   "execution_count": null,
   "id": "72043946-872b-4089-bef6-d4e4b45fb55f",
   "metadata": {},
   "outputs": [],
   "source": []
  }
 ],
 "metadata": {
  "kernelspec": {
   "display_name": "Python 3 (ipykernel)",
   "language": "python",
   "name": "python3"
  },
  "language_info": {
   "codemirror_mode": {
    "name": "ipython",
    "version": 3
   },
   "file_extension": ".py",
   "mimetype": "text/x-python",
   "name": "python",
   "nbconvert_exporter": "python",
   "pygments_lexer": "ipython3",
   "version": "3.12.7"
  }
 },
 "nbformat": 4,
 "nbformat_minor": 5
}
